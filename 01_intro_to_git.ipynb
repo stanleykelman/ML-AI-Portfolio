{
 "cells": [
  {
   "cell_type": "markdown",
   "metadata": {},
   "source": [
    "# Introduction to Git and your Terminal \n",
    "\n",
    "**OBJECTIVES**\n",
    "\n",
    "- Navigate files and directories using your terminal\n",
    "- Create, alter, and delete files using your terminal\n",
    "- Create `.git` repositories locally in your terminal\n",
    "- Create `github` repositories online\n",
    "- Connect local `.git` repositories to `github` \n",
    "- Use the **add, commit, push** commands to update work in remote repository\n",
    "\n",
    "\n",
    "<center>\n",
    "    <img src = https://git-scm.com/images/logo@2x.png />\n",
    "    </center>"
   ]
  },
  {
   "cell_type": "markdown",
   "metadata": {},
   "source": [
    "**REQUIREMENTS**\n",
    "\n",
    "- Terminal application with `git` installed.  For windows users, the easiest approach is to download and install **[git for windows](https://gitforwindows.org/)**."
   ]
  },
  {
   "cell_type": "markdown",
   "metadata": {},
   "source": [
    "## Using the Terminal\n",
    "\n",
    "In this exercise, our focus will be on using the terminal to navigate files and directories as well as to create and destroy files and directories. \n",
    "\n",
    "![](images/terminal.png)"
   ]
  },
  {
   "cell_type": "markdown",
   "metadata": {},
   "source": [
    "# Introduction to Git and Your Terminal\n",
    "\n",
    "In this notebook, we will explore how to navigate files and directories using the terminal, create and manage Git repositories locally, and connect them to GitHub. This will help you understand the basics of version control and how to keep your projects organized and up-to-date.\n"
   ]
  },
  {
   "cell_type": "markdown",
   "metadata": {},
   "source": [
    "## Objectives\n",
    "\n",
    "- Navigate files and directories using your terminal\n",
    "- Create, alter, and delete files using your terminal\n",
    "- Create .git repositories locally in your terminal\n",
    "- Create GitHub repositories online\n",
    "- Connect local .git repositories to GitHub\n",
    "- Use the add, commit, push commands to update work in remote repository\n"
   ]
  },
  {
   "cell_type": "markdown",
   "metadata": {},
   "source": [
    "## Requirements\n",
    "\n",
    "- Terminal application with Git installed. For Windows users, download and install [Git for Windows](https://gitforwindows.org/).\n"
   ]
  },
  {
   "cell_type": "markdown",
   "metadata": {},
   "source": [
    "## Using the Terminal\n",
    "\n",
    "In this exercise, our focus will be on using the terminal to navigate files and directories as well as to create and destroy files and directories.\n"
   ]
  },
  {
   "cell_type": "markdown",
   "metadata": {},
   "source": [
    "### Navigate Files and Directories\n",
    "\n",
    "Use terminal commands to navigate through the file system.\n"
   ]
  },
  {
   "cell_type": "markdown",
   "metadata": {},
   "source": [
    "### Navigating Files\n",
    "\n",
    "- Use `pwd` to see where you currently are located"
   ]
  },
  {
   "cell_type": "code",
   "execution_count": 5,
   "metadata": {},
   "outputs": [
    {
     "data": {
      "text/plain": [
       "'C:\\\\Users\\\\Home'"
      ]
     },
     "execution_count": 5,
     "metadata": {},
     "output_type": "execute_result"
    }
   ],
   "source": [
    "# Use %pwd to see where you currently are located\n",
    "%pwd\n",
    "\n",
    "\n"
   ]
  },
  {
   "cell_type": "markdown",
   "metadata": {},
   "source": [
    "- Use `ls` to see the files and folders available"
   ]
  },
  {
   "cell_type": "code",
   "execution_count": 7,
   "metadata": {},
   "outputs": [
    {
     "name": "stdout",
     "output_type": "stream",
     "text": [
      "[WinError 2] The system cannot find the file specified: 'Desktop'\n",
      "C:\\Users\\Home\n",
      " Volume in drive C is Windows\n",
      " Volume Serial Number is 4899-61A8\n",
      "\n",
      " Directory of C:\\Users\\Home\n",
      "\n",
      "07/14/2024  03:08 PM    <DIR>          .\n",
      "03/22/2024  10:42 PM    <DIR>          ..\n",
      "07/13/2024  10:11 PM             9,828 .bash_history\n",
      "07/14/2024  03:08 PM    <DIR>          .conda\n",
      "02/19/2023  07:44 PM                42 .condarc\n",
      "02/15/2023  11:22 PM    <DIR>          .continuum\n",
      "03/12/2024  11:05 PM    <DIR>          .fontconfig\n",
      "07/13/2024  08:02 PM                87 .gitconfig\n",
      "07/13/2024  07:54 PM                50 .gitignore\n",
      "01/16/2023  12:50 AM    <DIR>          .idlerc\n",
      "07/14/2024  02:30 PM    <DIR>          .ipynb_checkpoints\n",
      "02/15/2023  11:48 PM    <DIR>          .ipython\n",
      "02/17/2023  12:14 AM    <DIR>          .jupyter\n",
      "07/13/2024  09:49 PM                20 .lesshst\n",
      "02/19/2023  11:55 AM    <DIR>          .matplotlib\n",
      "06/29/2022  08:30 AM    <DIR>          .ms-ad\n",
      "02/19/2023  07:31 PM    <DIR>          .spyder-py3\n",
      "07/11/2024  11:58 PM    <DIR>          .ssh\n",
      "07/13/2024  09:53 PM             7,762 .viminfo\n",
      "07/14/2024  03:08 PM            21,392 01_intro_to_git.ipynb\n",
      "03/16/2022  01:29 PM    <DIR>          3D Objects\n",
      "02/15/2023  11:23 PM    <DIR>          anaconda3\n",
      "06/18/2024  10:06 PM           400,799 Boston House Prices Plots Charts Scatter.ipynb\n",
      "06/23/2024  03:56 PM            66,617 coding_activity_2-4.ipynb\n",
      "06/25/2024  10:13 PM             9,424 coding_activity_2.7.ipynb\n",
      "06/25/2024  10:44 PM            40,300 coding_activity_2.8.ipynb\n",
      "06/25/2024  09:28 PM            16,202 coding_activity_2_5.ipynb\n",
      "06/25/2024  08:27 PM            20,304 coding_activity_2_5.ipynb_multivariate datasets\n",
      "06/26/2024  08:45 PM            34,967 coding_activity_3.1.ipynb\n",
      "07/01/2024  11:17 PM            28,985 coding_activity_3.4.ipynb\n",
      "06/28/2024  10:12 PM            23,576 coding_activity_3.5.ipynb\n",
      "06/28/2024  09:48 PM            55,443 coding_activity_3.6.ipynb\n",
      "06/29/2024  09:45 PM            26,605 coding_activity_3.7.ipynb\n",
      "06/29/2024  10:12 PM            22,168 coding_activity_3.8.ipynb\n",
      "06/26/2024  09:29 PM            13,174 coding_activity_3_2.ipynb\n",
      "06/26/2024  10:10 PM            74,510 coding_activity_3_3.ipynb\n",
      "07/03/2024  09:33 PM            46,008 coding_activity_4.1.ipynb\n",
      "07/04/2024  02:30 PM            23,594 coding_activity_4.2.ipynb\n",
      "07/04/2024  06:40 PM            27,940 coding_activity_4.5.ipynb\n",
      "07/04/2024  03:35 PM            14,477 coding_activity_4_3.ipynb\n",
      "07/04/2024  06:38 PM           103,036 coding_activity_4_4.ipynb\n",
      "07/04/2024  06:57 PM            54,584 coding_activity_4_6.ipynb\n",
      "10/10/2022  08:35 PM    <DIR>          Contacts\n",
      "05/10/2024  12:56 PM    <DIR>          Creative Cloud Files Personal Account stanleykelman@gmail.com BCC817FE52B49D0E0A490D4C@AdobeID\n",
      "06/18/2024  04:05 PM            10,180 Datasets Analysis Module 1.ipynb\n",
      "03/26/2023  10:07 AM    <DIR>          Documents\n",
      "07/13/2024  11:02 PM    <DIR>          Downloads\n",
      "07/08/2024  12:38 AM            88,254 family_dynamics_vs_spending.png\n",
      "10/10/2022  08:35 PM    <DIR>          Favorites\n",
      "07/08/2024  12:34 AM            77,875 income_vs_spending_luxury.png\n",
      "02/19/2023  07:30 PM    <DIR>          Jedi\n",
      "10/10/2022  08:35 PM    <DIR>          Links\n",
      "07/07/2024  02:20 PM           217,947 marketing_campaign.csv\n",
      "02/20/2023  10:57 PM    <DIR>          miniconda3\n",
      "10/10/2022  08:35 PM    <DIR>          Music\n",
      "07/11/2024  10:15 PM    <DIR>          MyProjects\n",
      "03/26/2023  10:05 AM    <DIR>          OneDrive\n",
      "07/14/2024  01:32 PM    <DIR>          OneDrive - Pelotonworkforce\n",
      "06/18/2024  09:26 PM    <DIR>          plots\n",
      "07/08/2024  12:39 AM            78,130 purchase_frequency_vs_spending.png\n",
      "03/04/2023  09:17 PM    <DIR>          PycharmProjects\n",
      "07/11/2024  10:52 PM    <DIR>          repository\n",
      "10/10/2022  08:35 PM    <DIR>          Saved Games\n",
      "06/23/2024  04:55 PM    <DIR>          seaborn-data\n",
      "10/10/2022  08:35 PM    <DIR>          Searches\n",
      "09/07/2023  10:00 PM    <DIR>          Stanley - Pelotonworkforce\n",
      "06/18/2024  09:28 PM           284,082 try-it_1.1.ipynb\n",
      "06/18/2024  08:37 AM            88,351 try-it_1.1_SOLUTION.ipynb\n",
      "06/30/2024  11:15 PM         1,108,709 Try_it Activity 3.1\n",
      "06/21/2024  11:00 PM           199,981 try_it_2-1.ipynb\n",
      "06/24/2024  12:06 AM         1,372,343 try_it_2-2 CARS Pair plot.ipynb\n",
      "07/08/2024  01:36 AM         3,180,463 try_it_activity_1.ipynb\n",
      "07/09/2024  02:44 PM           436,311 try_it_activity_2 (1).ipynb\n",
      "07/09/2024  02:49 PM           436,988 try_it_activity_2 (2).ipynb\n",
      "07/08/2024  10:56 PM           436,988 try_it_activity_2.ipynb\n",
      "02/17/2023  12:15 AM             1,339 Untitled.ipynb\n",
      "02/17/2023  12:55 AM             1,193 Untitled1.ipynb\n",
      "02/19/2023  12:02 PM               589 Untitled2.ipynb\n",
      "02/19/2023  08:28 PM               902 Untitled3.ipynb\n",
      "06/17/2024  08:25 PM             5,070 Untitled4.ipynb\n",
      "06/18/2024  09:03 PM               589 Untitled5.ipynb\n",
      "06/18/2024  09:02 PM                72 Untitled6.ipynb\n",
      "06/30/2024  10:28 PM                72 Untitled7.ipynb\n",
      "03/03/2024  08:10 AM    <DIR>          Videos\n",
      "              49 File(s)      9,168,322 bytes\n",
      "              35 Dir(s)  1,659,639,062,528 bytes free\n"
     ]
    }
   ],
   "source": [
    "# Change directory to Desktop\n",
    "%cd Desktop\n",
    "\n",
    "# List files and folders on the Desktop\n",
    "!dir\n",
    "\n"
   ]
  },
  {
   "cell_type": "markdown",
   "metadata": {},
   "source": [
    "- Use `ls -F` to differentiate between files and folders"
   ]
  },
  {
   "cell_type": "code",
   "execution_count": 9,
   "metadata": {},
   "outputs": [
    {
     "name": "stdout",
     "output_type": "stream",
     "text": [
      "[WinError 2] The system cannot find the file specified: 'Desktop'\n",
      "C:\\Users\\Home\n",
      " Volume in drive C is Windows\n",
      " Volume Serial Number is 4899-61A8\n",
      "\n",
      " Directory of C:\\Users\\Home\n",
      "\n",
      "07/14/2024  03:08 PM    <DIR>          .\n",
      "03/22/2024  10:42 PM    <DIR>          ..\n",
      "07/13/2024  10:11 PM             9,828 .bash_history\n",
      "07/14/2024  03:09 PM    <DIR>          .conda\n",
      "02/19/2023  07:44 PM                42 .condarc\n",
      "02/15/2023  11:22 PM    <DIR>          .continuum\n",
      "03/12/2024  11:05 PM    <DIR>          .fontconfig\n",
      "07/13/2024  08:02 PM                87 .gitconfig\n",
      "07/13/2024  07:54 PM                50 .gitignore\n",
      "01/16/2023  12:50 AM    <DIR>          .idlerc\n",
      "07/14/2024  02:30 PM    <DIR>          .ipynb_checkpoints\n",
      "02/15/2023  11:48 PM    <DIR>          .ipython\n",
      "02/17/2023  12:14 AM    <DIR>          .jupyter\n",
      "07/13/2024  09:49 PM                20 .lesshst\n",
      "02/19/2023  11:55 AM    <DIR>          .matplotlib\n",
      "06/29/2022  08:30 AM    <DIR>          .ms-ad\n",
      "02/19/2023  07:31 PM    <DIR>          .spyder-py3\n",
      "07/11/2024  11:58 PM    <DIR>          .ssh\n",
      "07/13/2024  09:53 PM             7,762 .viminfo\n",
      "07/14/2024  03:08 PM            21,392 01_intro_to_git.ipynb\n",
      "03/16/2022  01:29 PM    <DIR>          3D Objects\n",
      "02/15/2023  11:23 PM    <DIR>          anaconda3\n",
      "06/18/2024  10:06 PM           400,799 Boston House Prices Plots Charts Scatter.ipynb\n",
      "06/23/2024  03:56 PM            66,617 coding_activity_2-4.ipynb\n",
      "06/25/2024  10:13 PM             9,424 coding_activity_2.7.ipynb\n",
      "06/25/2024  10:44 PM            40,300 coding_activity_2.8.ipynb\n",
      "06/25/2024  09:28 PM            16,202 coding_activity_2_5.ipynb\n",
      "06/25/2024  08:27 PM            20,304 coding_activity_2_5.ipynb_multivariate datasets\n",
      "06/26/2024  08:45 PM            34,967 coding_activity_3.1.ipynb\n",
      "07/01/2024  11:17 PM            28,985 coding_activity_3.4.ipynb\n",
      "06/28/2024  10:12 PM            23,576 coding_activity_3.5.ipynb\n",
      "06/28/2024  09:48 PM            55,443 coding_activity_3.6.ipynb\n",
      "06/29/2024  09:45 PM            26,605 coding_activity_3.7.ipynb\n",
      "06/29/2024  10:12 PM            22,168 coding_activity_3.8.ipynb\n",
      "06/26/2024  09:29 PM            13,174 coding_activity_3_2.ipynb\n",
      "06/26/2024  10:10 PM            74,510 coding_activity_3_3.ipynb\n",
      "07/03/2024  09:33 PM            46,008 coding_activity_4.1.ipynb\n",
      "07/04/2024  02:30 PM            23,594 coding_activity_4.2.ipynb\n",
      "07/04/2024  06:40 PM            27,940 coding_activity_4.5.ipynb\n",
      "07/04/2024  03:35 PM            14,477 coding_activity_4_3.ipynb\n",
      "07/04/2024  06:38 PM           103,036 coding_activity_4_4.ipynb\n",
      "07/04/2024  06:57 PM            54,584 coding_activity_4_6.ipynb\n",
      "10/10/2022  08:35 PM    <DIR>          Contacts\n",
      "05/10/2024  12:56 PM    <DIR>          Creative Cloud Files Personal Account stanleykelman@gmail.com BCC817FE52B49D0E0A490D4C@AdobeID\n",
      "06/18/2024  04:05 PM            10,180 Datasets Analysis Module 1.ipynb\n",
      "03/26/2023  10:07 AM    <DIR>          Documents\n",
      "07/13/2024  11:02 PM    <DIR>          Downloads\n",
      "07/08/2024  12:38 AM            88,254 family_dynamics_vs_spending.png\n",
      "10/10/2022  08:35 PM    <DIR>          Favorites\n",
      "07/08/2024  12:34 AM            77,875 income_vs_spending_luxury.png\n",
      "02/19/2023  07:30 PM    <DIR>          Jedi\n",
      "10/10/2022  08:35 PM    <DIR>          Links\n",
      "07/07/2024  02:20 PM           217,947 marketing_campaign.csv\n",
      "02/20/2023  10:57 PM    <DIR>          miniconda3\n",
      "10/10/2022  08:35 PM    <DIR>          Music\n",
      "07/11/2024  10:15 PM    <DIR>          MyProjects\n",
      "03/26/2023  10:05 AM    <DIR>          OneDrive\n",
      "07/14/2024  01:32 PM    <DIR>          OneDrive - Pelotonworkforce\n",
      "06/18/2024  09:26 PM    <DIR>          plots\n",
      "07/08/2024  12:39 AM            78,130 purchase_frequency_vs_spending.png\n",
      "03/04/2023  09:17 PM    <DIR>          PycharmProjects\n",
      "07/11/2024  10:52 PM    <DIR>          repository\n",
      "10/10/2022  08:35 PM    <DIR>          Saved Games\n",
      "06/23/2024  04:55 PM    <DIR>          seaborn-data\n",
      "10/10/2022  08:35 PM    <DIR>          Searches\n",
      "09/07/2023  10:00 PM    <DIR>          Stanley - Pelotonworkforce\n",
      "06/18/2024  09:28 PM           284,082 try-it_1.1.ipynb\n",
      "06/18/2024  08:37 AM            88,351 try-it_1.1_SOLUTION.ipynb\n",
      "06/30/2024  11:15 PM         1,108,709 Try_it Activity 3.1\n",
      "06/21/2024  11:00 PM           199,981 try_it_2-1.ipynb\n",
      "06/24/2024  12:06 AM         1,372,343 try_it_2-2 CARS Pair plot.ipynb\n",
      "07/08/2024  01:36 AM         3,180,463 try_it_activity_1.ipynb\n",
      "07/09/2024  02:44 PM           436,311 try_it_activity_2 (1).ipynb\n",
      "07/09/2024  02:49 PM           436,988 try_it_activity_2 (2).ipynb\n",
      "07/08/2024  10:56 PM           436,988 try_it_activity_2.ipynb\n",
      "02/17/2023  12:15 AM             1,339 Untitled.ipynb\n",
      "02/17/2023  12:55 AM             1,193 Untitled1.ipynb\n",
      "02/19/2023  12:02 PM               589 Untitled2.ipynb\n",
      "02/19/2023  08:28 PM               902 Untitled3.ipynb\n",
      "06/17/2024  08:25 PM             5,070 Untitled4.ipynb\n",
      "06/18/2024  09:03 PM               589 Untitled5.ipynb\n",
      "06/18/2024  09:02 PM                72 Untitled6.ipynb\n",
      "06/30/2024  10:28 PM                72 Untitled7.ipynb\n",
      "03/03/2024  08:10 AM    <DIR>          Videos\n",
      "              49 File(s)      9,168,322 bytes\n",
      "              35 Dir(s)  1,659,637,747,712 bytes free\n"
     ]
    }
   ],
   "source": [
    "# Change directory to Desktop (or another directory with files)\n",
    "%cd Desktop\n",
    "\n",
    "# List files and folders in the Desktop directory\n",
    "!dir\n",
    "\n"
   ]
  },
  {
   "cell_type": "markdown",
   "metadata": {},
   "source": [
    "- Use `cd` to change directory"
   ]
  },
  {
   "cell_type": "code",
   "execution_count": 11,
   "metadata": {},
   "outputs": [
    {
     "name": "stdout",
     "output_type": "stream",
     "text": [
      " Volume in drive C is Windows\n",
      " Volume Serial Number is 4899-61A8\n",
      "\n",
      " Directory of C:\\Users\\Home\n",
      "\n",
      "07/14/2024  03:10 PM    <DIR>          .\n",
      "03/22/2024  10:42 PM    <DIR>          ..\n",
      "07/13/2024  10:11 PM             9,828 .bash_history\n",
      "07/14/2024  03:12 PM    <DIR>          .conda\n",
      "02/19/2023  07:44 PM                42 .condarc\n",
      "02/15/2023  11:22 PM    <DIR>          .continuum\n",
      "03/12/2024  11:05 PM    <DIR>          .fontconfig\n",
      "07/13/2024  08:02 PM                87 .gitconfig\n",
      "07/13/2024  07:54 PM                50 .gitignore\n",
      "01/16/2023  12:50 AM    <DIR>          .idlerc\n",
      "07/14/2024  02:30 PM    <DIR>          .ipynb_checkpoints\n",
      "02/15/2023  11:48 PM    <DIR>          .ipython\n",
      "02/17/2023  12:14 AM    <DIR>          .jupyter\n",
      "07/13/2024  09:49 PM                20 .lesshst\n",
      "02/19/2023  11:55 AM    <DIR>          .matplotlib\n",
      "06/29/2022  08:30 AM    <DIR>          .ms-ad\n",
      "02/19/2023  07:31 PM    <DIR>          .spyder-py3\n",
      "07/11/2024  11:58 PM    <DIR>          .ssh\n",
      "07/13/2024  09:53 PM             7,762 .viminfo\n",
      "07/14/2024  03:10 PM            33,484 01_intro_to_git.ipynb\n",
      "03/16/2022  01:29 PM    <DIR>          3D Objects\n",
      "02/15/2023  11:23 PM    <DIR>          anaconda3\n",
      "06/18/2024  10:06 PM           400,799 Boston House Prices Plots Charts Scatter.ipynb\n",
      "06/23/2024  03:56 PM            66,617 coding_activity_2-4.ipynb\n",
      "06/25/2024  10:13 PM             9,424 coding_activity_2.7.ipynb\n",
      "06/25/2024  10:44 PM            40,300 coding_activity_2.8.ipynb\n",
      "06/25/2024  09:28 PM            16,202 coding_activity_2_5.ipynb\n",
      "06/25/2024  08:27 PM            20,304 coding_activity_2_5.ipynb_multivariate datasets\n",
      "06/26/2024  08:45 PM            34,967 coding_activity_3.1.ipynb\n",
      "07/01/2024  11:17 PM            28,985 coding_activity_3.4.ipynb\n",
      "06/28/2024  10:12 PM            23,576 coding_activity_3.5.ipynb\n",
      "06/28/2024  09:48 PM            55,443 coding_activity_3.6.ipynb\n",
      "06/29/2024  09:45 PM            26,605 coding_activity_3.7.ipynb\n",
      "06/29/2024  10:12 PM            22,168 coding_activity_3.8.ipynb\n",
      "06/26/2024  09:29 PM            13,174 coding_activity_3_2.ipynb\n",
      "06/26/2024  10:10 PM            74,510 coding_activity_3_3.ipynb\n",
      "07/03/2024  09:33 PM            46,008 coding_activity_4.1.ipynb\n",
      "07/04/2024  02:30 PM            23,594 coding_activity_4.2.ipynb\n",
      "07/04/2024  06:40 PM            27,940 coding_activity_4.5.ipynb\n",
      "07/04/2024  03:35 PM            14,477 coding_activity_4_3.ipynb\n",
      "07/04/2024  06:38 PM           103,036 coding_activity_4_4.ipynb\n",
      "07/04/2024  06:57 PM            54,584 coding_activity_4_6.ipynb\n",
      "10/10/2022  08:35 PM    <DIR>          Contacts\n",
      "05/10/2024  12:56 PM    <DIR>          Creative Cloud Files Personal Account stanleykelman@gmail.com BCC817FE52B49D0E0A490D4C@AdobeID\n",
      "06/18/2024  04:05 PM            10,180 Datasets Analysis Module 1.ipynb\n",
      "03/26/2023  10:07 AM    <DIR>          Documents\n",
      "07/13/2024  11:02 PM    <DIR>          Downloads\n",
      "07/08/2024  12:38 AM            88,254 family_dynamics_vs_spending.png\n",
      "10/10/2022  08:35 PM    <DIR>          Favorites\n",
      "07/08/2024  12:34 AM            77,875 income_vs_spending_luxury.png\n",
      "02/19/2023  07:30 PM    <DIR>          Jedi\n",
      "10/10/2022  08:35 PM    <DIR>          Links\n",
      "07/07/2024  02:20 PM           217,947 marketing_campaign.csv\n",
      "02/20/2023  10:57 PM    <DIR>          miniconda3\n",
      "10/10/2022  08:35 PM    <DIR>          Music\n",
      "07/11/2024  10:15 PM    <DIR>          MyProjects\n",
      "03/26/2023  10:05 AM    <DIR>          OneDrive\n",
      "07/14/2024  01:32 PM    <DIR>          OneDrive - Pelotonworkforce\n",
      "06/18/2024  09:26 PM    <DIR>          plots\n",
      "07/08/2024  12:39 AM            78,130 purchase_frequency_vs_spending.png\n",
      "03/04/2023  09:17 PM    <DIR>          PycharmProjects\n",
      "07/11/2024  10:52 PM    <DIR>          repository\n",
      "10/10/2022  08:35 PM    <DIR>          Saved Games\n",
      "06/23/2024  04:55 PM    <DIR>          seaborn-data\n",
      "10/10/2022  08:35 PM    <DIR>          Searches\n",
      "09/07/2023  10:00 PM    <DIR>          Stanley - Pelotonworkforce\n",
      "06/18/2024  09:28 PM           284,082 try-it_1.1.ipynb\n",
      "06/18/2024  08:37 AM            88,351 try-it_1.1_SOLUTION.ipynb\n",
      "06/30/2024  11:15 PM         1,108,709 Try_it Activity 3.1\n",
      "06/21/2024  11:00 PM           199,981 try_it_2-1.ipynb\n",
      "06/24/2024  12:06 AM         1,372,343 try_it_2-2 CARS Pair plot.ipynb\n",
      "07/08/2024  01:36 AM         3,180,463 try_it_activity_1.ipynb\n",
      "07/09/2024  02:44 PM           436,311 try_it_activity_2 (1).ipynb\n",
      "07/09/2024  02:49 PM           436,988 try_it_activity_2 (2).ipynb\n",
      "07/08/2024  10:56 PM           436,988 try_it_activity_2.ipynb\n",
      "02/17/2023  12:15 AM             1,339 Untitled.ipynb\n",
      "02/17/2023  12:55 AM             1,193 Untitled1.ipynb\n",
      "02/19/2023  12:02 PM               589 Untitled2.ipynb\n",
      "02/19/2023  08:28 PM               902 Untitled3.ipynb\n",
      "06/17/2024  08:25 PM             5,070 Untitled4.ipynb\n",
      "06/18/2024  09:03 PM               589 Untitled5.ipynb\n",
      "06/18/2024  09:02 PM                72 Untitled6.ipynb\n",
      "06/30/2024  10:28 PM                72 Untitled7.ipynb\n",
      "03/03/2024  08:10 AM    <DIR>          Videos\n",
      "              49 File(s)      9,180,414 bytes\n",
      "              35 Dir(s)  1,659,637,981,184 bytes free\n"
     ]
    }
   ],
   "source": [
    "# List the contents of the current directory to find a valid path\n",
    "!dir\n",
    "\n"
   ]
  },
  {
   "cell_type": "markdown",
   "metadata": {},
   "source": [
    "- Use `mkdir` to make a new directory"
   ]
  },
  {
   "cell_type": "code",
   "execution_count": 12,
   "metadata": {},
   "outputs": [],
   "source": [
    "# Use mkdir to make a new directory\n",
    "!mkdir new_directory\n"
   ]
  },
  {
   "cell_type": "markdown",
   "metadata": {},
   "source": [
    "- Use `touch` to create a new `.txt` file"
   ]
  },
  {
   "cell_type": "code",
   "execution_count": 13,
   "metadata": {},
   "outputs": [],
   "source": [
    "# Use touch to create a new .txt file\n",
    "!type nul > newfile.txt\n"
   ]
  },
  {
   "cell_type": "markdown",
   "metadata": {},
   "source": [
    "- Use `rm` **VERY CAREFULLY** to delete the file"
   ]
  },
  {
   "cell_type": "code",
   "execution_count": 14,
   "metadata": {},
   "outputs": [],
   "source": [
    "# Use rm VERY CAREFULLY to delete the file\n",
    "!del newfile.txt  # For Windows use 'del' instead of 'rm'\n"
   ]
  },
  {
   "cell_type": "markdown",
   "metadata": {},
   "source": [
    "- Use `rm` **VERY CAREFULLY** to examine the contents of a directory and delete one by one"
   ]
  },
  {
   "cell_type": "code",
   "execution_count": 15,
   "metadata": {},
   "outputs": [
    {
     "name": "stdout",
     "output_type": "stream",
     "text": [
      " Volume in drive C is Windows\n",
      " Volume Serial Number is 4899-61A8\n",
      "\n",
      " Directory of C:\\Users\\Home\n",
      "\n",
      "07/14/2024  03:16 PM    <DIR>          .\n",
      "03/22/2024  10:42 PM    <DIR>          ..\n",
      "07/13/2024  10:11 PM             9,828 .bash_history\n",
      "07/14/2024  03:16 PM    <DIR>          .conda\n",
      "02/19/2023  07:44 PM                42 .condarc\n",
      "02/15/2023  11:22 PM    <DIR>          .continuum\n",
      "03/12/2024  11:05 PM    <DIR>          .fontconfig\n",
      "07/13/2024  08:02 PM                87 .gitconfig\n",
      "07/13/2024  07:54 PM                50 .gitignore\n",
      "01/16/2023  12:50 AM    <DIR>          .idlerc\n",
      "07/14/2024  02:30 PM    <DIR>          .ipynb_checkpoints\n",
      "02/15/2023  11:48 PM    <DIR>          .ipython\n",
      "02/17/2023  12:14 AM    <DIR>          .jupyter\n",
      "07/13/2024  09:49 PM                20 .lesshst\n",
      "02/19/2023  11:55 AM    <DIR>          .matplotlib\n",
      "06/29/2022  08:30 AM    <DIR>          .ms-ad\n",
      "02/19/2023  07:31 PM    <DIR>          .spyder-py3\n",
      "07/11/2024  11:58 PM    <DIR>          .ssh\n",
      "07/13/2024  09:53 PM             7,762 .viminfo\n",
      "07/14/2024  03:14 PM            39,897 01_intro_to_git.ipynb\n",
      "03/16/2022  01:29 PM    <DIR>          3D Objects\n",
      "02/15/2023  11:23 PM    <DIR>          anaconda3\n",
      "06/18/2024  10:06 PM           400,799 Boston House Prices Plots Charts Scatter.ipynb\n",
      "06/23/2024  03:56 PM            66,617 coding_activity_2-4.ipynb\n",
      "06/25/2024  10:13 PM             9,424 coding_activity_2.7.ipynb\n",
      "06/25/2024  10:44 PM            40,300 coding_activity_2.8.ipynb\n",
      "06/25/2024  09:28 PM            16,202 coding_activity_2_5.ipynb\n",
      "06/25/2024  08:27 PM            20,304 coding_activity_2_5.ipynb_multivariate datasets\n",
      "06/26/2024  08:45 PM            34,967 coding_activity_3.1.ipynb\n",
      "07/01/2024  11:17 PM            28,985 coding_activity_3.4.ipynb\n",
      "06/28/2024  10:12 PM            23,576 coding_activity_3.5.ipynb\n",
      "06/28/2024  09:48 PM            55,443 coding_activity_3.6.ipynb\n",
      "06/29/2024  09:45 PM            26,605 coding_activity_3.7.ipynb\n",
      "06/29/2024  10:12 PM            22,168 coding_activity_3.8.ipynb\n",
      "06/26/2024  09:29 PM            13,174 coding_activity_3_2.ipynb\n",
      "06/26/2024  10:10 PM            74,510 coding_activity_3_3.ipynb\n",
      "07/03/2024  09:33 PM            46,008 coding_activity_4.1.ipynb\n",
      "07/04/2024  02:30 PM            23,594 coding_activity_4.2.ipynb\n",
      "07/04/2024  06:40 PM            27,940 coding_activity_4.5.ipynb\n",
      "07/04/2024  03:35 PM            14,477 coding_activity_4_3.ipynb\n",
      "07/04/2024  06:38 PM           103,036 coding_activity_4_4.ipynb\n",
      "07/04/2024  06:57 PM            54,584 coding_activity_4_6.ipynb\n",
      "10/10/2022  08:35 PM    <DIR>          Contacts\n",
      "05/10/2024  12:56 PM    <DIR>          Creative Cloud Files Personal Account stanleykelman@gmail.com BCC817FE52B49D0E0A490D4C@AdobeID\n",
      "06/18/2024  04:05 PM            10,180 Datasets Analysis Module 1.ipynb\n",
      "03/26/2023  10:07 AM    <DIR>          Documents\n",
      "07/13/2024  11:02 PM    <DIR>          Downloads\n",
      "07/08/2024  12:38 AM            88,254 family_dynamics_vs_spending.png\n",
      "10/10/2022  08:35 PM    <DIR>          Favorites\n",
      "07/08/2024  12:34 AM            77,875 income_vs_spending_luxury.png\n",
      "02/19/2023  07:30 PM    <DIR>          Jedi\n",
      "10/10/2022  08:35 PM    <DIR>          Links\n",
      "07/07/2024  02:20 PM           217,947 marketing_campaign.csv\n",
      "02/20/2023  10:57 PM    <DIR>          miniconda3\n",
      "10/10/2022  08:35 PM    <DIR>          Music\n",
      "07/11/2024  10:15 PM    <DIR>          MyProjects\n",
      "07/14/2024  03:13 PM    <DIR>          new_directory\n",
      "03/26/2023  10:05 AM    <DIR>          OneDrive\n",
      "07/14/2024  01:32 PM    <DIR>          OneDrive - Pelotonworkforce\n",
      "06/18/2024  09:26 PM    <DIR>          plots\n",
      "07/08/2024  12:39 AM            78,130 purchase_frequency_vs_spending.png\n",
      "03/04/2023  09:17 PM    <DIR>          PycharmProjects\n",
      "07/11/2024  10:52 PM    <DIR>          repository\n",
      "10/10/2022  08:35 PM    <DIR>          Saved Games\n",
      "06/23/2024  04:55 PM    <DIR>          seaborn-data\n",
      "10/10/2022  08:35 PM    <DIR>          Searches\n",
      "09/07/2023  10:00 PM    <DIR>          Stanley - Pelotonworkforce\n",
      "06/18/2024  09:28 PM           284,082 try-it_1.1.ipynb\n",
      "06/18/2024  08:37 AM            88,351 try-it_1.1_SOLUTION.ipynb\n",
      "06/30/2024  11:15 PM         1,108,709 Try_it Activity 3.1\n",
      "06/21/2024  11:00 PM           199,981 try_it_2-1.ipynb\n",
      "06/24/2024  12:06 AM         1,372,343 try_it_2-2 CARS Pair plot.ipynb\n",
      "07/08/2024  01:36 AM         3,180,463 try_it_activity_1.ipynb\n",
      "07/09/2024  02:44 PM           436,311 try_it_activity_2 (1).ipynb\n",
      "07/09/2024  02:49 PM           436,988 try_it_activity_2 (2).ipynb\n",
      "07/08/2024  10:56 PM           436,988 try_it_activity_2.ipynb\n",
      "02/17/2023  12:15 AM             1,339 Untitled.ipynb\n",
      "02/17/2023  12:55 AM             1,193 Untitled1.ipynb\n",
      "02/19/2023  12:02 PM               589 Untitled2.ipynb\n",
      "02/19/2023  08:28 PM               902 Untitled3.ipynb\n",
      "06/17/2024  08:25 PM             5,070 Untitled4.ipynb\n",
      "06/18/2024  09:03 PM               589 Untitled5.ipynb\n",
      "06/18/2024  09:02 PM                72 Untitled6.ipynb\n",
      "06/30/2024  10:28 PM                72 Untitled7.ipynb\n",
      "03/03/2024  08:10 AM    <DIR>          Videos\n",
      "              49 File(s)      9,186,827 bytes\n",
      "              36 Dir(s)  1,659,408,224,256 bytes free\n"
     ]
    }
   ],
   "source": [
    "# Examine the contents of a directory\n",
    "!dir\n"
   ]
  },
  {
   "cell_type": "markdown",
   "metadata": {},
   "source": [
    "## Introduction to `git`\n",
    "\n",
    "Now that we have a basic understanding of moving around on our computer, we introduce a tool for keeping track of our work versions. This gives us a historical record of changes and can move backwards and forwards through these changes as we work.   \n",
    "\n"
   ]
  },
  {
   "cell_type": "markdown",
   "metadata": {},
   "source": [
    "## Setting Up a Text Editor\n",
    "\n",
    "Configure Nano as your preferred text editor for Git. Use the following command:\n",
    "\n"
   ]
  },
  {
   "cell_type": "code",
   "execution_count": 17,
   "metadata": {},
   "outputs": [],
   "source": [
    "# Set Nano as the default editor for Git\n",
    "!git config --global core.editor \"nano -w\"\n"
   ]
  },
  {
   "cell_type": "markdown",
   "metadata": {},
   "source": [
    "### Configuring Git\n",
    "\n",
    "To get started, we want to configure a name and email for our git account.  This should be the same username and email that you use later to setup a `github` account.  In your terminal, use the following lines of code to configure the username and email, replacing *Steven Segal* with your username and the *ssegal@aol.com* with your email.\n",
    "\n",
    "- `git config --global user.name \"Steven Segal\"`\n",
    "- `git config --global user.email \"ssegal@aol.com\"`"
   ]
  },
  {
   "cell_type": "markdown",
   "metadata": {},
   "source": [
    "### Setting up a Text Editor\n",
    "\n",
    "**Vim** is default -- you have decisions to make as to whether this is right for you.  Depending on your choice of text editor, you will have to enter the appropriate code.  For a full list of text editor options see [here](https://git-scm.com/book/en/v2/Appendix-C%3A-Git-Commands-Setup-and-Config#ch_core_editor).\n",
    "\n",
    "- *nano*: `git config --global core.editor \"nano -w\"`\n",
    "- *VS code*:`git config --global core.editor \"code --wait\"`"
   ]
  },
  {
   "cell_type": "markdown",
   "metadata": {},
   "source": [
    "### Checking Configuration\n",
    "\n",
    "To look over your basic configuration settings for git, you can use the following command:\n",
    "\n",
    "- `git config --list`\n",
    "\n"
   ]
  },
  {
   "cell_type": "code",
   "execution_count": 18,
   "metadata": {},
   "outputs": [
    {
     "name": "stdout",
     "output_type": "stream",
     "text": [
      "diff.astextplain.textconv=astextplain\n",
      "filter.lfs.clean=git-lfs clean -- %f\n",
      "filter.lfs.smudge=git-lfs smudge -- %f\n",
      "filter.lfs.process=git-lfs filter-process\n",
      "filter.lfs.required=true\n",
      "http.sslbackend=openssl\n",
      "http.sslcainfo=C:/Program Files/Git/mingw64/etc/ssl/certs/ca-bundle.crt\n",
      "core.autocrlf=true\n",
      "core.fscache=true\n",
      "core.symlinks=false\n",
      "pull.rebase=false\n",
      "credential.helper=manager\n",
      "credential.https://dev.azure.com.usehttppath=true\n",
      "init.defaultbranch=master\n",
      "user.name=Stanley Kelman\n",
      "user.email=stanleykelman@gmail.com\n",
      "core.autocrlf=true\n",
      "core.editor=nano -w\n"
     ]
    }
   ],
   "source": [
    "# Check Git configuration\n",
    "!git config --list\n"
   ]
  },
  {
   "cell_type": "markdown",
   "metadata": {},
   "source": [
    "### A New Project\n",
    "\n",
    "<center>\n",
    "<img src = https://upload.wikimedia.org/wikipedia/en/7/7f/Kraftwerk_-_The_Man-Machine.png width = 30%/><img src = https://upload.wikimedia.org/wikipedia/en/a/a6/Kraftwerk_-_Computer_World.png width = 30% />\n",
    "    </center>\n",
    "    \n",
    "    \n",
    "For this example, we will create a new directory and locate a new `git` repository inside of the directory.  We want the new directory to be located on our `Desktop` and will name it `kraftwerk`.  Starting from our root user directory, we will navigate to the `Desktop`, create a new directory named `kraftwerk` and move into that directory.  The following commands will accomplish this:\n",
    "\n",
    "\n",
    "\n",
    "\n",
    "\n",
    "- `cd Desktop`\n",
    "- `mkdir kraftwerk`\n",
    "- `cd kraftwerk`"
   ]
  },
  {
   "cell_type": "markdown",
   "metadata": {},
   "source": [
    "## Creating a New Project\n",
    "\n",
    "Create a new directory and locate a new Git repository inside this directory. We will create a directory named `kraftwerk` on the Desktop.\n"
   ]
  },
  {
   "cell_type": "code",
   "execution_count": 20,
   "metadata": {},
   "outputs": [
    {
     "name": "stdout",
     "output_type": "stream",
     "text": [
      " Volume in drive C is Windows\n",
      " Volume Serial Number is 4899-61A8\n",
      "\n",
      " Directory of C:\\Users\\Home\n",
      "\n",
      "07/14/2024  03:22 PM    <DIR>          .\n",
      "03/22/2024  10:42 PM    <DIR>          ..\n",
      "07/13/2024  10:11 PM             9,828 .bash_history\n",
      "07/14/2024  03:24 PM    <DIR>          .conda\n",
      "02/19/2023  07:44 PM                42 .condarc\n",
      "02/15/2023  11:22 PM    <DIR>          .continuum\n",
      "03/12/2024  11:05 PM    <DIR>          .fontconfig\n",
      "07/14/2024  03:19 PM               105 .gitconfig\n",
      "07/13/2024  07:54 PM                50 .gitignore\n",
      "01/16/2023  12:50 AM    <DIR>          .idlerc\n",
      "07/14/2024  02:30 PM    <DIR>          .ipynb_checkpoints\n",
      "02/15/2023  11:48 PM    <DIR>          .ipython\n",
      "02/17/2023  12:14 AM    <DIR>          .jupyter\n",
      "07/13/2024  09:49 PM                20 .lesshst\n",
      "02/19/2023  11:55 AM    <DIR>          .matplotlib\n",
      "06/29/2022  08:30 AM    <DIR>          .ms-ad\n",
      "02/19/2023  07:31 PM    <DIR>          .spyder-py3\n",
      "07/11/2024  11:58 PM    <DIR>          .ssh\n",
      "07/13/2024  09:53 PM             7,762 .viminfo\n",
      "07/14/2024  03:22 PM            47,645 01_intro_to_git.ipynb\n",
      "03/16/2022  01:29 PM    <DIR>          3D Objects\n",
      "02/15/2023  11:23 PM    <DIR>          anaconda3\n",
      "06/18/2024  10:06 PM           400,799 Boston House Prices Plots Charts Scatter.ipynb\n",
      "06/23/2024  03:56 PM            66,617 coding_activity_2-4.ipynb\n",
      "06/25/2024  10:13 PM             9,424 coding_activity_2.7.ipynb\n",
      "06/25/2024  10:44 PM            40,300 coding_activity_2.8.ipynb\n",
      "06/25/2024  09:28 PM            16,202 coding_activity_2_5.ipynb\n",
      "06/25/2024  08:27 PM            20,304 coding_activity_2_5.ipynb_multivariate datasets\n",
      "06/26/2024  08:45 PM            34,967 coding_activity_3.1.ipynb\n",
      "07/01/2024  11:17 PM            28,985 coding_activity_3.4.ipynb\n",
      "06/28/2024  10:12 PM            23,576 coding_activity_3.5.ipynb\n",
      "06/28/2024  09:48 PM            55,443 coding_activity_3.6.ipynb\n",
      "06/29/2024  09:45 PM            26,605 coding_activity_3.7.ipynb\n",
      "06/29/2024  10:12 PM            22,168 coding_activity_3.8.ipynb\n",
      "06/26/2024  09:29 PM            13,174 coding_activity_3_2.ipynb\n",
      "06/26/2024  10:10 PM            74,510 coding_activity_3_3.ipynb\n",
      "07/03/2024  09:33 PM            46,008 coding_activity_4.1.ipynb\n",
      "07/04/2024  02:30 PM            23,594 coding_activity_4.2.ipynb\n",
      "07/04/2024  06:40 PM            27,940 coding_activity_4.5.ipynb\n",
      "07/04/2024  03:35 PM            14,477 coding_activity_4_3.ipynb\n",
      "07/04/2024  06:38 PM           103,036 coding_activity_4_4.ipynb\n",
      "07/04/2024  06:57 PM            54,584 coding_activity_4_6.ipynb\n",
      "10/10/2022  08:35 PM    <DIR>          Contacts\n",
      "05/10/2024  12:56 PM    <DIR>          Creative Cloud Files Personal Account stanleykelman@gmail.com BCC817FE52B49D0E0A490D4C@AdobeID\n",
      "06/18/2024  04:05 PM            10,180 Datasets Analysis Module 1.ipynb\n",
      "03/26/2023  10:07 AM    <DIR>          Documents\n",
      "07/13/2024  11:02 PM    <DIR>          Downloads\n",
      "07/08/2024  12:38 AM            88,254 family_dynamics_vs_spending.png\n",
      "10/10/2022  08:35 PM    <DIR>          Favorites\n",
      "07/08/2024  12:34 AM            77,875 income_vs_spending_luxury.png\n",
      "02/19/2023  07:30 PM    <DIR>          Jedi\n",
      "10/10/2022  08:35 PM    <DIR>          Links\n",
      "07/07/2024  02:20 PM           217,947 marketing_campaign.csv\n",
      "02/20/2023  10:57 PM    <DIR>          miniconda3\n",
      "10/10/2022  08:35 PM    <DIR>          Music\n",
      "07/11/2024  10:15 PM    <DIR>          MyProjects\n",
      "07/14/2024  03:13 PM    <DIR>          new_directory\n",
      "03/26/2023  10:05 AM    <DIR>          OneDrive\n",
      "07/14/2024  01:32 PM    <DIR>          OneDrive - Pelotonworkforce\n",
      "06/18/2024  09:26 PM    <DIR>          plots\n",
      "07/08/2024  12:39 AM            78,130 purchase_frequency_vs_spending.png\n",
      "03/04/2023  09:17 PM    <DIR>          PycharmProjects\n",
      "07/11/2024  10:52 PM    <DIR>          repository\n",
      "10/10/2022  08:35 PM    <DIR>          Saved Games\n",
      "06/23/2024  04:55 PM    <DIR>          seaborn-data\n",
      "10/10/2022  08:35 PM    <DIR>          Searches\n",
      "09/07/2023  10:00 PM    <DIR>          Stanley - Pelotonworkforce\n",
      "06/18/2024  09:28 PM           284,082 try-it_1.1.ipynb\n",
      "06/18/2024  08:37 AM            88,351 try-it_1.1_SOLUTION.ipynb\n",
      "06/30/2024  11:15 PM         1,108,709 Try_it Activity 3.1\n",
      "06/21/2024  11:00 PM           199,981 try_it_2-1.ipynb\n",
      "06/24/2024  12:06 AM         1,372,343 try_it_2-2 CARS Pair plot.ipynb\n",
      "07/08/2024  01:36 AM         3,180,463 try_it_activity_1.ipynb\n",
      "07/09/2024  02:44 PM           436,311 try_it_activity_2 (1).ipynb\n",
      "07/09/2024  02:49 PM           436,988 try_it_activity_2 (2).ipynb\n",
      "07/08/2024  10:56 PM           436,988 try_it_activity_2.ipynb\n",
      "02/17/2023  12:15 AM             1,339 Untitled.ipynb\n",
      "02/17/2023  12:55 AM             1,193 Untitled1.ipynb\n",
      "02/19/2023  12:02 PM               589 Untitled2.ipynb\n",
      "02/19/2023  08:28 PM               902 Untitled3.ipynb\n",
      "06/17/2024  08:25 PM             5,070 Untitled4.ipynb\n",
      "06/18/2024  09:03 PM               589 Untitled5.ipynb\n",
      "06/18/2024  09:02 PM                72 Untitled6.ipynb\n",
      "06/30/2024  10:28 PM                72 Untitled7.ipynb\n",
      "03/03/2024  08:10 AM    <DIR>          Videos\n",
      "              49 File(s)      9,194,593 bytes\n",
      "              36 Dir(s)  1,659,408,326,656 bytes free\n"
     ]
    }
   ],
   "source": [
    "# List the contents of the current directory to verify our location\n",
    "!dir\n",
    "\n"
   ]
  },
  {
   "cell_type": "code",
   "execution_count": 21,
   "metadata": {},
   "outputs": [],
   "source": [
    "# Create a new directory named 'kraftwerk' in the current location\n",
    "!mkdir kraftwerk\n"
   ]
  },
  {
   "cell_type": "code",
   "execution_count": 22,
   "metadata": {},
   "outputs": [
    {
     "name": "stdout",
     "output_type": "stream",
     "text": [
      "C:\\Users\\Home\\kraftwerk\n"
     ]
    }
   ],
   "source": [
    "# Change directory to the newly created 'kraftwerk' directory\n",
    "%cd kraftwerk\n"
   ]
  },
  {
   "cell_type": "code",
   "execution_count": 23,
   "metadata": {},
   "outputs": [
    {
     "name": "stdout",
     "output_type": "stream",
     "text": [
      "Initialized empty Git repository in C:/Users/Home/kraftwerk/.git/\n"
     ]
    }
   ],
   "source": [
    "# Initialize a new Git repository in the 'kraftwerk' directory\n",
    "!git init\n"
   ]
  },
  {
   "cell_type": "code",
   "execution_count": 24,
   "metadata": {},
   "outputs": [],
   "source": [
    "# Create a new file called 'manmachine.txt' and add text to it\n",
    "!echo \"The Man-Machine stands as one of the pinnacles of 70's rock music\" > manmachine.txt\n"
   ]
  },
  {
   "cell_type": "code",
   "execution_count": 26,
   "metadata": {},
   "outputs": [
    {
     "name": "stdout",
     "output_type": "stream",
     "text": [
      "\"The Man-Machine stands as one of the pinnacles of 70's rock music\" \n"
     ]
    }
   ],
   "source": [
    "# View the contents of the file using the 'type' command for Windows\n",
    "!type manmachine.txt\n",
    "\n"
   ]
  },
  {
   "cell_type": "markdown",
   "metadata": {},
   "source": [
    "### Creating a `git` Repository\n",
    "\n",
    "Now that we have our folder ready and are located inside of the folder `kraftwerk` on our `Desktop`, we will create a `git` repository to track our work.  The command `git init` creates a new repository and we should see evidence of the new repository with the line:\n",
    "\n",
    "```\n",
    "Initialized empty Git repository in\n",
    "/Users/jacobkoehler/Desktop/kraftwerk/.git/\n",
    "```\n",
    "\n",
    "The repository itself will be a hidden directory.  Using our `ls -a` command, we should see the empty repository.\n",
    "\n",
    "![](images/newgit.png)"
   ]
  },
  {
   "cell_type": "markdown",
   "metadata": {},
   "source": [
    "### Creating a new file\n",
    "\n",
    "Now, use your text editor to create a new file called `manmachine.txt`.  For example, using the `nano` editor we would write:\n",
    "\n",
    "\n",
    "- `nano manmachine.txt`\n",
    "\n",
    "From here, add the following line to the file:"
   ]
  },
  {
   "cell_type": "markdown",
   "metadata": {},
   "source": [
    "`\"The Man-Machine stands as one of the pinnacles of 70's rock music\"`"
   ]
  },
  {
   "cell_type": "markdown",
   "metadata": {},
   "source": [
    "## Adding the File to Git\n",
    "\n",
    "Add the file to be tracked by Git.\n"
   ]
  },
  {
   "cell_type": "code",
   "execution_count": 28,
   "metadata": {},
   "outputs": [],
   "source": [
    "# Add the file to Git\n",
    "!git add manmachine.txt\n"
   ]
  },
  {
   "cell_type": "markdown",
   "metadata": {},
   "source": [
    "## Committing Changes\n",
    "\n",
    "Commit the changes with a message.\n"
   ]
  },
  {
   "cell_type": "code",
   "execution_count": 29,
   "metadata": {},
   "outputs": [
    {
     "name": "stdout",
     "output_type": "stream",
     "text": [
      "[master (root-commit) de0a356] Started info on manmachine\n",
      " 1 file changed, 1 insertion(+)\n",
      " create mode 100644 manmachine.txt\n"
     ]
    }
   ],
   "source": [
    "# Commit the changes\n",
    "!git commit -m \"Started info on manmachine\"\n"
   ]
  },
  {
   "cell_type": "markdown",
   "metadata": {},
   "source": [
    "![](images/manmachine.png)"
   ]
  },
  {
   "cell_type": "markdown",
   "metadata": {},
   "source": [
    "We can examine the contents of the file with the `cat` command:\n",
    "\n",
    "- `cat manmachine.txt`\n",
    "\n",
    "and should see the following:\n",
    "\n",
    "![](images/cat.png)"
   ]
  },
  {
   "cell_type": "markdown",
   "metadata": {},
   "source": [
    "Our purpose here is to keep track of changes to files.  Our `.git` repository is doing this automatically, as we can see with the `status` command.  Note that we preface our commands with `git`, so we write `git status`, and see:\n",
    "\n",
    "![](images/status.png)"
   ]
  },
  {
   "cell_type": "markdown",
   "metadata": {},
   "source": [
    "As instructed, we want to add our file to be tracked by `git`.  To do so, we write:\n",
    "\n",
    "- `git add manmachine.txt`"
   ]
  },
  {
   "cell_type": "markdown",
   "metadata": {},
   "source": [
    "Now, when we examine the status of our repository we should see that a new file has been added to the repository\n",
    "\n",
    "- `git status`\n",
    "\n",
    "![](images/newfile.png)"
   ]
  },
  {
   "cell_type": "markdown",
   "metadata": {},
   "source": [
    "Now that the file has been added to tracking, we want to save our changes and associate them with a **commit message**.  This message helps associate the changes made with a human readable message.  For example, using `git commit -m \"Started info on manmachine\"` .  Now, we have a version of our work saved that we can return to if we so desire.   "
   ]
  },
  {
   "cell_type": "markdown",
   "metadata": {},
   "source": [
    "To check the status of our repository and whether there have been any changes made to the files we use `git status`.  To see a recent history of our changes, we can use `git log`. "
   ]
  },
  {
   "cell_type": "markdown",
   "metadata": {},
   "source": [
    "### Making changes and updating the repository\n",
    "\n",
    "Now, let's make changes to the file and see how to keep track of our updates.  Open the file using `nano manmachine.txt`, and add the following text:"
   ]
  },
  {
   "cell_type": "markdown",
   "metadata": {},
   "source": [
    "`\"Contains song THE ROBOTS where lyrics reference the revolutionary technique of robotics, and how humans can use them as they wish\"`"
   ]
  },
  {
   "cell_type": "markdown",
   "metadata": {},
   "source": [
    "Save the file and exit.  Now, check the status of your repository again using `git status`.  You should see that the `manmachine.txt` file has been modified.  To explore the specifics of the changes, we can use `git diff`.  You can see the `+` sign next to the new additions:\n",
    "\n",
    "![](images/diff.png)"
   ]
  },
  {
   "cell_type": "markdown",
   "metadata": {},
   "source": [
    "To save a record of our changes, we will again add the changes to the staging area, and commit them accompanied by a message."
   ]
  },
  {
   "cell_type": "markdown",
   "metadata": {},
   "source": [
    "- `git add manmachine.txt`\n",
    "- `git commit -m \"Added info on THE ROBOTS lyrics\"`\n",
    "\n",
    "After doing this, we should see no changes staged to commit.\n",
    "\n",
    "- `git status`"
   ]
  },
  {
   "cell_type": "markdown",
   "metadata": {},
   "source": [
    "### Changing things again"
   ]
  },
  {
   "cell_type": "markdown",
   "metadata": {},
   "source": [
    "One more time, let's add some text to our file.\n",
    "\n",
    "\n",
    "- `nano manmachine.txt`\n",
    "\n",
    "`\"When the song is performed live, the band is traditionally replaced by robots that resemble themselves\"`\n",
    "\n",
    "Make sure to add the file changes to be tracked, and commit them with an informative message.  "
   ]
  },
  {
   "cell_type": "markdown",
   "metadata": {},
   "source": [
    "## Modifying the File\n",
    "\n",
    "Open the file and add more text to it.\n"
   ]
  },
  {
   "cell_type": "code",
   "execution_count": 31,
   "metadata": {},
   "outputs": [],
   "source": [
    "# Modify the file to add more text\n",
    "!echo \"Contains song THE ROBOTS where lyrics reference the revolutionary technique of robotics, and how humans can use them as they wish\" >> manmachine.txt\n"
   ]
  },
  {
   "cell_type": "markdown",
   "metadata": {},
   "source": [
    "### Big Idea: Staging Area\n",
    "\n",
    "Our workflow here will be as follows:\n",
    "\n",
    "- Create a folder to house your work\n",
    "- Create a new `git` repository in that folder\n",
    "- When changes are made to a file, add the file to be tracked with `git add filename`\n",
    "- To commit changes to your repository use `git commit -m \"an informative commit message\"`\n",
    "\n",
    "\n",
    "\n",
    "<img src = https://swcarpentry.github.io/git-novice/fig/git-staging-area.svg />"
   ]
  },
  {
   "cell_type": "markdown",
   "metadata": {},
   "source": [
    "##### Extra Practice\n",
    "\n",
    "1. Create a new directory and check the status of your repository.  Add your repo to the staging area and recheck the status.  What do you notice?\n",
    "\n",
    "2. What criticism might you have about the following commit message?\n",
    "\n",
    " - `git commit -m \"changed stuff\"`\n",
    " \n",
    "3. We can add multiple files to the staging area using either wildcards or by multiple adds before a commit.  What do you think is a drawback to working on multiple files and using the command:\n",
    "\n",
    " - `git add .`\n",
    " \n",
    "4. Please do the following:\n",
    " - Create a new git repository on your computer called me. \n",
    " - Write a one sentence biography in a file called `me.txt`.\n",
    " - Commit your changes.  \n",
    " - Modify a line and display the differences between updated state and its original state."
   ]
  },
  {
   "cell_type": "markdown",
   "metadata": {},
   "source": [
    "## Checking the Status\n",
    "\n",
    "Check the status of the repository to see the changes.\n"
   ]
  },
  {
   "cell_type": "code",
   "execution_count": 32,
   "metadata": {},
   "outputs": [
    {
     "name": "stdout",
     "output_type": "stream",
     "text": [
      "On branch master\n",
      "Changes not staged for commit:\n",
      "  (use \"git add <file>...\" to update what will be committed)\n",
      "  (use \"git restore <file>...\" to discard changes in working directory)\n",
      "\tmodified:   manmachine.txt\n",
      "\n",
      "no changes added to commit (use \"git add\" and/or \"git commit -a\")\n"
     ]
    }
   ],
   "source": [
    "# Check the Git status\n",
    "!git status\n"
   ]
  },
  {
   "cell_type": "markdown",
   "metadata": {},
   "source": [
    "## Viewing Differences\n",
    "\n",
    "Use `git diff` to see the changes made to the file.\n"
   ]
  },
  {
   "cell_type": "code",
   "execution_count": 33,
   "metadata": {},
   "outputs": [
    {
     "name": "stdout",
     "output_type": "stream",
     "text": [
      "diff --git a/manmachine.txt b/manmachine.txt\n",
      "index f1acc7a..421339e 100644\n",
      "--- a/manmachine.txt\n",
      "+++ b/manmachine.txt\n",
      "@@ -1 +1,3 @@\n",
      " \"The Man-Machine stands as one of the pinnacles of 70's rock music\" \n",
      "+\"Contains song THE ROBOTS where lyrics reference the revolutionary technique of robotics, and how humans can use them as they wish\" \n",
      "+\"Contains song THE ROBOTS where lyrics reference the revolutionary technique of robotics, and how humans can use them as they wish\" \n"
     ]
    }
   ],
   "source": [
    "# View the differences\n",
    "!git diff\n"
   ]
  },
  {
   "cell_type": "markdown",
   "metadata": {},
   "source": [
    "#### Extra Commands"
   ]
  },
  {
   "cell_type": "markdown",
   "metadata": {},
   "source": [
    "**Tracking Changes**\n",
    "\n",
    "- `git status`\n",
    "- `git add`\n",
    "- `git commit`\n",
    "- `git log`\n",
    "- `git diff`"
   ]
  },
  {
   "cell_type": "markdown",
   "metadata": {},
   "source": [
    "## Adding and Committing Changes\n",
    "\n",
    "Add the changes to the staging area and commit them with a message.\n"
   ]
  },
  {
   "cell_type": "code",
   "execution_count": 34,
   "metadata": {},
   "outputs": [
    {
     "name": "stdout",
     "output_type": "stream",
     "text": [
      "[master b32074c] Added info on THE ROBOTS lyrics\n",
      " 1 file changed, 2 insertions(+)\n"
     ]
    }
   ],
   "source": [
    "# Add the changes to Git\n",
    "!git add manmachine.txt\n",
    "\n",
    "# Commit the changes\n",
    "!git commit -m \"Added info on THE ROBOTS lyrics\"\n"
   ]
  },
  {
   "cell_type": "markdown",
   "metadata": {},
   "source": [
    "## Modifying the File Again\n",
    "\n",
    "Add more text to the file and commit the changes.\n"
   ]
  },
  {
   "cell_type": "code",
   "execution_count": 35,
   "metadata": {},
   "outputs": [],
   "source": [
    "# Modify the file to add more text\n",
    "!echo \"When the song is performed live, the band is traditionally replaced by robots that resemble themselves\" >> manmachine.txt\n"
   ]
  },
  {
   "cell_type": "markdown",
   "metadata": {},
   "source": [
    "**Exploring History**\n",
    "\n",
    "- `git diff HEAD`\n",
    "- `git diff HEAD~1 manmachine.txt`\n",
    "- `git show HEAD~2 manmachine.txt`\n",
    "- `git checkout`\n",
    "- `git diff somebiglongstring`\n"
   ]
  },
  {
   "cell_type": "markdown",
   "metadata": {},
   "source": [
    "## Adding and Committing the Final Changes\n",
    "\n",
    "Add the changes to the staging area and commit them with a message.\n"
   ]
  },
  {
   "cell_type": "code",
   "execution_count": 36,
   "metadata": {},
   "outputs": [
    {
     "name": "stdout",
     "output_type": "stream",
     "text": [
      "[master a0ec87a] Added info about live performances\n",
      " 1 file changed, 1 insertion(+)\n"
     ]
    }
   ],
   "source": [
    "# Add the changes to Git\n",
    "!git add manmachine.txt\n",
    "\n",
    "# Commit the changes\n",
    "!git commit -m \"Added info about live performances\"\n"
   ]
  },
  {
   "cell_type": "markdown",
   "metadata": {},
   "source": [
    "##### HEAD\n",
    "\n",
    "- `git checkout master`"
   ]
  },
  {
   "cell_type": "markdown",
   "metadata": {},
   "source": [
    "##### PROBLEM\n",
    "\n",
    "Create a new file called `computerworld.txt` with the line of text:\n",
    "\n",
    "- `\"The album deals with the themes of the rise of computers within society.\"`\n",
    "\n",
    "Stage the changes and add a second line:\n",
    "\n",
    "- `\"The track \"Computer Love\" was released as a seven-inch single in the UK, in July 1981, backed with \"The Model\", from the group's previous album The Man-Machine. \"`\n",
    "\n",
    "Commit the changes with an appropriate message.  What would be the output of:\n",
    "\n",
    "- `git checkout HEAD computerworld.txt`\n",
    "- `cat computerworld.txt`"
   ]
  },
  {
   "cell_type": "markdown",
   "metadata": {},
   "source": [
    "What is the difference between running:\n",
    "\n",
    "- `git log`\n",
    "\n",
    "- `git log computerworld.txt`\n",
    "\n",
    "- `git log --patch HEAD~2 *.txt`"
   ]
  },
  {
   "cell_type": "markdown",
   "metadata": {},
   "source": [
    "### Setting Up a `github.com` Account\n",
    "\n",
    "Outside of tracking our version history locally, we will use `.git` to move files back and forth from our local computer to a remote repository on the web.  Our remote repository will be located on the website `github.com`, so first thing we need to do is setup a new account if you don't have one already.  This will have to use the same username and email as your local git configuration, so make sure to check that first. \n",
    "\n",
    "\n",
    "\n",
    "### Creating a New Repository on `github.com`\n",
    "\n",
    "Once you have your account setup, you can create a new repository by clicking the **new repository** button.  Name the repository whatever you would like, and make sure **DO NOT ADD A README.md FILE**.  \n",
    "\n",
    "<img src = images/remotecreate.png />"
   ]
  },
  {
   "cell_type": "markdown",
   "metadata": {},
   "source": [
    "### Connecting with your local repository\n",
    "\n",
    "Once you create the new repository on `github.com` you should see the following:\n",
    "\n",
    "![](images/instructions.png)"
   ]
  },
  {
   "cell_type": "markdown",
   "metadata": {},
   "source": [
    "We are interested in the commands for **push an existing repository from the command line**.  Making sure you are located in your `kraftwerk` folder on your desktop with the git repository, you can run the three commands:\n",
    "\n",
    "```\n",
    "git remote add origin https://github.com/jfkoehler/kraftwerk.git\n",
    "git branch -M main\n",
    "git push -u origin main\n",
    "```"
   ]
  },
  {
   "cell_type": "markdown",
   "metadata": {},
   "source": [
    "to connect your repository and move the files to your online repo with the `push` command.  "
   ]
  },
  {
   "cell_type": "markdown",
   "metadata": {},
   "source": [
    "### A Typical Repo Structure"
   ]
  },
  {
   "cell_type": "markdown",
   "metadata": {},
   "source": [
    "A typical repo will include the following items:\n",
    "- README.md: This file provides a brief description of the project, its purpose, and any necessary instructions/guidance for use.\n",
    "- Source code: Place all your source code files (like your jupyter notebooks) in the root directory of the repository. You can organize them further as your project grows.\n",
    "- (Optional) License: Include a license file to specify the open-source license under which the project and its code is distributed. A popular choice for beginners is the MIT License, which is permissive and widely used. Read more about licensing in this [GitHub documentation](https://docs.github.com/en/repositories/managing-your-repositorys-settings-and-features/customizing-your-repository/licensing-a-repository)."
   ]
  },
  {
   "cell_type": "markdown",
   "metadata": {},
   "source": [
    "### PROBLEM\n",
    "\n",
    "Organize the list below into an appropriate order so as to minimize the opportunity for conflicts.\n",
    "\n",
    "a. Change file computerworld.txt to include text `\"In two photos, the mannequin representing Karl Bartos is seen playing a Stylophone, an instrument which is featured on the track \"Pocket Calculator\".\"`\n",
    "\n",
    "b. Update remote repo with local changes\n",
    "\n",
    "c. Celebrate success with beers and kraftwerk soundtrack\n",
    "\n",
    "d. Update local repo based on remote\n",
    "\n",
    "e. Stage changes for commit\n",
    "\n",
    "f. Commit changes locally"
   ]
  },
  {
   "cell_type": "markdown",
   "metadata": {},
   "source": [
    "## Change File `computerworld.txt`\n",
    "\n",
    "Change file `computerworld.txt` to include text.\n"
   ]
  },
  {
   "cell_type": "code",
   "execution_count": 37,
   "metadata": {},
   "outputs": [],
   "source": [
    "# Change the file content\n",
    "with open(\"computerworld.txt\", \"w\") as file:\n",
    "    file.write(\"In two photos, the mannequin representing Karl Bartos is seen playing a Stylophone, an instrument which is featured on the track 'Pocket Calculator'.\")\n"
   ]
  },
  {
   "cell_type": "markdown",
   "metadata": {},
   "source": [
    "## Stage Changes for Commit\n",
    "\n",
    "Use the `git add` command to stage changes.\n"
   ]
  },
  {
   "cell_type": "code",
   "execution_count": 38,
   "metadata": {},
   "outputs": [],
   "source": [
    "# Stage the changes for commit\n",
    "!git add computerworld.txt\n"
   ]
  },
  {
   "cell_type": "markdown",
   "metadata": {},
   "source": [
    "## Commit Changes Locally\n",
    "\n",
    "Use the `git commit` command to commit changes locally.\n"
   ]
  },
  {
   "cell_type": "code",
   "execution_count": 39,
   "metadata": {},
   "outputs": [
    {
     "name": "stdout",
     "output_type": "stream",
     "text": [
      "[master a98279a] Update computerworld.txt with new text about Karl Bartos and Stylophone\n",
      " 1 file changed, 1 insertion(+)\n",
      " create mode 100644 computerworld.txt\n"
     ]
    }
   ],
   "source": [
    "# Commit the changes locally\n",
    "!git commit -m \"Update computerworld.txt with new text about Karl Bartos and Stylophone\"\n"
   ]
  },
  {
   "cell_type": "markdown",
   "metadata": {},
   "source": [
    "## Update Remote Repo with Local Changes\n",
    "\n",
    "Use the `git push` command to push changes to the remote repository.\n"
   ]
  },
  {
   "cell_type": "markdown",
   "metadata": {},
   "source": [
    "## Add Remote Repository\n",
    "\n",
    "Link your local repository to a GitHub repository.\n"
   ]
  },
  {
   "cell_type": "code",
   "execution_count": 42,
   "metadata": {
    "scrolled": true
   },
   "outputs": [],
   "source": [
    "# Add a remote repository\n",
    "!git remote add origin https://github.com/stanleykelman/ML-AI-Portfolio.git\n"
   ]
  },
  {
   "cell_type": "markdown",
   "metadata": {},
   "source": [
    "## Update Remote Repo with Local Changes\n",
    "\n",
    "Use the `git push` command to push changes to the remote repository.\n"
   ]
  },
  {
   "cell_type": "markdown",
   "metadata": {},
   "source": [
    "# Check the current branch name\n",
    "!git branch\n",
    "\n"
   ]
  },
  {
   "cell_type": "markdown",
   "metadata": {},
   "source": [
    "## Update Remote Repo with Local Changes\n",
    "\n",
    "Use the `git push` command to push changes to the remote repository.\n"
   ]
  },
  {
   "cell_type": "code",
   "execution_count": 45,
   "metadata": {},
   "outputs": [
    {
     "name": "stdout",
     "output_type": "stream",
     "text": [
      "branch 'master' set up to track 'origin/master'.\n"
     ]
    },
    {
     "name": "stderr",
     "output_type": "stream",
     "text": [
      "remote: \n",
      "remote: Create a pull request for 'master' on GitHub by visiting:        \n",
      "remote:      https://github.com/stanleykelman/ML-AI-Portfolio/pull/new/master        \n",
      "remote: \n",
      "To https://github.com/stanleykelman/ML-AI-Portfolio.git\n",
      " * [new branch]      master -> master\n"
     ]
    }
   ],
   "source": [
    "# Push changes to the 'master' branch\n",
    "!git push -u origin master\n"
   ]
  },
  {
   "cell_type": "markdown",
   "metadata": {},
   "source": [
    "## Update Local Repo Based on Remote\n",
    "\n",
    "Use the `git pull` command to update the local repository with changes from the remote repository.\n"
   ]
  },
  {
   "cell_type": "markdown",
   "metadata": {},
   "source": [
    "# Pull changes from the remote repository\n",
    "!git pull\n"
   ]
  },
  {
   "cell_type": "markdown",
   "metadata": {},
   "source": [
    "## Celebrate Success\n",
    "\n",
    "Celebrate success with beers and Kraftwerk soundtrack.\n"
   ]
  },
  {
   "cell_type": "markdown",
   "metadata": {},
   "source": [
    "## Viewing Commit History\n",
    "\n",
    "Use the `git log` command to view the commit history.\n"
   ]
  },
  {
   "cell_type": "code",
   "execution_count": 48,
   "metadata": {},
   "outputs": [
    {
     "name": "stdout",
     "output_type": "stream",
     "text": [
      "commit a98279aa2d9eefd4ad04dc51b9d860bae306a89d\n",
      "Author: Stanley Kelman <stanleykelman@gmail.com>\n",
      "Date:   Sun Jul 14 15:41:39 2024 -0700\n",
      "\n",
      "    Update computerworld.txt with new text about Karl Bartos and Stylophone\n",
      "\n",
      "commit a0ec87a1fda6dd2f8d7c93b240308b2c009c931b\n",
      "Author: Stanley Kelman <stanleykelman@gmail.com>\n",
      "Date:   Sun Jul 14 15:37:38 2024 -0700\n",
      "\n",
      "    Added info about live performances\n",
      "\n",
      "commit b32074ca46f40576e4951efc847fc701109d8254\n",
      "Author: Stanley Kelman <stanleykelman@gmail.com>\n",
      "Date:   Sun Jul 14 15:35:52 2024 -0700\n",
      "\n",
      "    Added info on THE ROBOTS lyrics\n",
      "\n",
      "commit de0a356dfb2ce1502e1f43fcbdee26db6a95410d\n",
      "Author: Stanley Kelman <stanleykelman@gmail.com>\n",
      "Date:   Sun Jul 14 15:30:34 2024 -0700\n",
      "\n",
      "    Started info on manmachine\n"
     ]
    }
   ],
   "source": [
    "# View the commit history\n",
    "!git log\n"
   ]
  },
  {
   "cell_type": "code",
   "execution_count": 50,
   "metadata": {},
   "outputs": [
    {
     "name": "stdout",
     "output_type": "stream",
     "text": [
      "diff.astextplain.textconv=astextplain\n",
      "filter.lfs.clean=git-lfs clean -- %f\n",
      "filter.lfs.smudge=git-lfs smudge -- %f\n",
      "filter.lfs.process=git-lfs filter-process\n",
      "filter.lfs.required=true\n",
      "http.sslbackend=openssl\n",
      "http.sslcainfo=C:/Program Files/Git/mingw64/etc/ssl/certs/ca-bundle.crt\n",
      "core.autocrlf=true\n",
      "core.fscache=true\n",
      "core.symlinks=false\n",
      "pull.rebase=false\n",
      "credential.helper=manager\n",
      "credential.https://dev.azure.com.usehttppath=true\n",
      "init.defaultbranch=master\n",
      "user.name=Stanley Kelman\n",
      "user.email=stanleykelman@gmail.com\n",
      "core.autocrlf=true\n",
      "core.editor=nano -w\n",
      "core.repositoryformatversion=0\n",
      "core.filemode=false\n",
      "core.bare=false\n",
      "core.logallrefupdates=true\n",
      "core.symlinks=false\n",
      "core.ignorecase=true\n",
      "remote.origin.url=https://github.com/stanleykelman/ML-AI-Portfolio.git\n",
      "remote.origin.fetch=+refs/heads/*:refs/remotes/origin/*\n",
      "branch.master.remote=origin\n",
      "branch.master.merge=refs/heads/master\n"
     ]
    }
   ],
   "source": [
    "# Check Git configuration\n",
    "!git config --list\n",
    "\n"
   ]
  },
  {
   "cell_type": "code",
   "execution_count": 55,
   "metadata": {
    "scrolled": true
   },
   "outputs": [
    {
     "data": {
      "text/plain": [
       "'C:\\\\Users\\\\Home\\\\kraftwerk'"
      ]
     },
     "execution_count": 55,
     "metadata": {},
     "output_type": "execute_result"
    }
   ],
   "source": [
    "# Find the current working directory\n",
    "import os\n",
    "os.getcwd()\n"
   ]
  },
  {
   "cell_type": "code",
   "execution_count": 57,
   "metadata": {},
   "outputs": [],
   "source": [
    "# Navigate to the repository directory\n",
    "import os\n",
    "os.chdir('C:/Users/Home/kraftwerk')\n"
   ]
  },
  {
   "cell_type": "code",
   "execution_count": 58,
   "metadata": {},
   "outputs": [
    {
     "name": "stdout",
     "output_type": "stream",
     "text": [
      "On branch master\n",
      "Your branch is up to date with 'origin/master'.\n",
      "\n",
      "nothing to commit, working tree clean\n"
     ]
    }
   ],
   "source": [
    "# Check the status of the repository\n",
    "!git status\n"
   ]
  },
  {
   "cell_type": "code",
   "execution_count": 63,
   "metadata": {
    "scrolled": true
   },
   "outputs": [
    {
     "data": {
      "text/plain": [
       "'C:/Users/Home/kraftwerk/01_intro_to_git.ipynb'"
      ]
     },
     "execution_count": 63,
     "metadata": {},
     "output_type": "execute_result"
    }
   ],
   "source": [
    "import shutil\n",
    "\n",
    "# Move the notebook to the kraftwerk directory\n",
    "shutil.move('C:/Users/Home/01_intro_to_git.ipynb', 'C:/Users/Home/kraftwerk/01_intro_to_git.ipynb')\n",
    "\n"
   ]
  },
  {
   "cell_type": "code",
   "execution_count": 61,
   "metadata": {},
   "outputs": [
    {
     "ename": "SyntaxError",
     "evalue": "invalid syntax (3894898205.py, line 2)",
     "output_type": "error",
     "traceback": [
      "\u001b[1;36m  File \u001b[1;32m\"C:\\Users\\Home\\AppData\\Local\\Temp\\ipykernel_12260\\3894898205.py\"\u001b[1;36m, line \u001b[1;32m2\u001b[0m\n\u001b[1;33m    mv C:/Users/Home/01_intro_to_git.ipynb C:/Users/Home/kraftwerk/\u001b[0m\n\u001b[1;37m       ^\u001b[0m\n\u001b[1;31mSyntaxError\u001b[0m\u001b[1;31m:\u001b[0m invalid syntax\n"
     ]
    }
   ],
   "source": [
    "\n"
   ]
  },
  {
   "cell_type": "code",
   "execution_count": null,
   "metadata": {},
   "outputs": [],
   "source": []
  }
 ],
 "metadata": {
  "kernelspec": {
   "display_name": "Python 3 (ipykernel)",
   "language": "python",
   "name": "python3"
  },
  "language_info": {
   "codemirror_mode": {
    "name": "ipython",
    "version": 3
   },
   "file_extension": ".py",
   "mimetype": "text/x-python",
   "name": "python",
   "nbconvert_exporter": "python",
   "pygments_lexer": "ipython3",
   "version": "3.9.13"
  },
  "widgets": {
   "application/vnd.jupyter.widget-state+json": {
    "state": {},
    "version_major": 2,
    "version_minor": 0
   }
  }
 },
 "nbformat": 4,
 "nbformat_minor": 4
}
